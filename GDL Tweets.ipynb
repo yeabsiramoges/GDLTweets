{
 "cells": [
  {
   "cell_type": "code",
   "execution_count": 7,
   "id": "d5c9683d",
   "metadata": {},
   "outputs": [],
   "source": [
    "import requests\n",
    "# For saving access tokens and for file management when creating and adding to the dataset\n",
    "import os\n",
    "# For dealing with json responses we receive from the API\n",
    "import json\n",
    "# For displaying the data after\n",
    "import pandas as pd\n",
    "# For saving the response data in CSV format\n",
    "import csv\n",
    "# For parsing the dates received from twitter in readable formats\n",
    "import datetime\n",
    "import dateutil.parser\n",
    "import unicodedata\n",
    "#To add wait time between requests\n",
    "import time"
   ]
  },
  {
   "cell_type": "code",
   "execution_count": 8,
   "id": "a5aa103d",
   "metadata": {},
   "outputs": [],
   "source": [
    "os.environ['TOKEN'] = 'AAAAAAAAAAAAAAAAAAAAAMM0aQEAAAAAtQeXJv5sh67MF%2BsrI3HrIvj5yIg%3D2G6yHNL05XqppqcA3fF4YwDr1ooIugZ1d5K6RrvnpfrKfHCCPr'"
   ]
  },
  {
   "cell_type": "code",
   "execution_count": 9,
   "id": "eba48417",
   "metadata": {},
   "outputs": [],
   "source": [
    "def auth():\n",
    "    return os.getenv('TOKEN')"
   ]
  },
  {
   "cell_type": "code",
   "execution_count": 10,
   "id": "d34f6b11",
   "metadata": {},
   "outputs": [],
   "source": [
    "def create_headers(bearer_token):\n",
    "    headers = {\"Authorization\": \"Bearer {}\".format(bearer_token)}\n",
    "    return headers"
   ]
  },
  {
   "cell_type": "code",
   "execution_count": 13,
   "id": "23460772",
   "metadata": {},
   "outputs": [],
   "source": [
    "def create_url(keyword, start_date, end_date, max_results = 10):\n",
    "    \n",
    "    search_url = \"https://api.twitter.com/2/tweets/search/all\" #Change to the endpoint you want to collect data from\n",
    "\n",
    "    #change params based on the endpoint you are using\n",
    "    query_params = {'query': keyword,\n",
    "                    'start_time': start_date,\n",
    "                    'end_time': end_date,\n",
    "                    'max_results': max_results,\n",
    "                    'expansions': 'author_id,geo.place_id',\n",
    "                    'tweet.fields': 'author_id,created_at,id,geo,lang,public_metrics,text,withheld',\n",
    "                    'user.fields': 'description,location,name,protected,username,verified',\n",
    "                    'place.fields': 'contained_within,country,country_code,full_name,id,geo,name,place_type',\n",
    "                    'next_token': {}}\n",
    "    return (search_url, query_params)"
   ]
  },
  {
   "cell_type": "code",
   "execution_count": 14,
   "id": "3e1e341e",
   "metadata": {},
   "outputs": [],
   "source": [
    "def connect_to_endpoint(url, headers, params, next_token = None):\n",
    "    params['next_token'] = next_token   #params object received from create_url function\n",
    "    response = requests.request(\"GET\", url, headers = headers, params = params)\n",
    "    print(\"Endpoint Response Code: \" + str(response.status_code))\n",
    "    if response.status_code != 200:\n",
    "        raise Exception(response.status_code, response.text)\n",
    "    return response.json()"
   ]
  },
  {
   "cell_type": "code",
   "execution_count": 105,
   "id": "ad6463d8",
   "metadata": {},
   "outputs": [],
   "source": [
    "bearer_token = auth()\n",
    "headers = create_headers(bearer_token)\n",
    "keyword = \"dignity disability -is:retweet place_country:US\"\n",
    "start_time = '2017-01-01T00:00:00.00Z'\n",
    "end_time = '2022-03-16T13:00:00.00Z'\n",
    "max_results = 500"
   ]
  },
  {
   "cell_type": "code",
   "execution_count": 106,
   "id": "045f8a96",
   "metadata": {},
   "outputs": [
    {
     "name": "stdout",
     "output_type": "stream",
     "text": [
      "Endpoint Response Code: 200\n"
     ]
    }
   ],
   "source": [
    "url = create_url(keyword, start_time,end_time, max_results)\n",
    "json_response = connect_to_endpoint(url[0], headers, url[1])"
   ]
  },
  {
   "cell_type": "code",
   "execution_count": 107,
   "id": "265715b6",
   "metadata": {},
   "outputs": [],
   "source": [
    "with open('data.json', 'w') as f:\n",
    "    json.dump(json_response, f)"
   ]
  },
  {
   "cell_type": "code",
   "execution_count": 108,
   "id": "50c2a3bb",
   "metadata": {},
   "outputs": [],
   "source": [
    "df = pd.DataFrame(json_response['data'])\n",
    "df2 = pd.DataFrame(json_response['includes']['users'])\n",
    "df3 = pd.DataFrame(json_response['includes']['places'])"
   ]
  },
  {
   "cell_type": "code",
   "execution_count": 109,
   "id": "5a0a7a56",
   "metadata": {},
   "outputs": [],
   "source": [
    "frames = [df, df2,df3]\n",
    "result = pd.concat(frames, axis=1)"
   ]
  },
  {
   "cell_type": "code",
   "execution_count": 118,
   "id": "356420b1",
   "metadata": {},
   "outputs": [],
   "source": [
    "result.to_csv('data.csv')"
   ]
  },
  {
   "cell_type": "code",
   "execution_count": null,
   "id": "9653c33a",
   "metadata": {},
   "outputs": [],
   "source": []
  },
  {
   "cell_type": "code",
   "execution_count": null,
   "id": "3278f958",
   "metadata": {},
   "outputs": [],
   "source": []
  },
  {
   "cell_type": "code",
   "execution_count": null,
   "id": "72e5ef79",
   "metadata": {},
   "outputs": [],
   "source": []
  }
 ],
 "metadata": {
  "kernelspec": {
   "display_name": "Python 3",
   "language": "python",
   "name": "python3"
  },
  "language_info": {
   "codemirror_mode": {
    "name": "ipython",
    "version": 3
   },
   "file_extension": ".py",
   "mimetype": "text/x-python",
   "name": "python",
   "nbconvert_exporter": "python",
   "pygments_lexer": "ipython3",
   "version": "3.8.8"
  }
 },
 "nbformat": 4,
 "nbformat_minor": 5
}
